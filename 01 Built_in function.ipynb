{
 "cells": [
  {
   "cell_type": "markdown",
   "id": "68963b86-fbca-42e4-89eb-18c318e77400",
   "metadata": {},
   "source": [
    "# Print"
   ]
  },
  {
   "cell_type": "code",
   "execution_count": 5,
   "id": "65674fb6-5593-44ad-afe5-d76cd2b933f4",
   "metadata": {},
   "outputs": [
    {
     "name": "stdout",
     "output_type": "stream",
     "text": [
      "Welcome to Python world !\n",
      "You've to heardly practice to learn Python.\n",
      "3.0\n"
     ]
    }
   ],
   "source": [
    "print('''Welcome to Python world !\n",
    "You've to heardly practice to learn Python.''')\n",
    "\n",
    "print(1*2+3-4/2)"
   ]
  },
  {
   "cell_type": "markdown",
   "id": "93ff1afe-4942-40f7-86f1-a6dfde15ce32",
   "metadata": {},
   "source": [
    "# Variables"
   ]
  },
  {
   "cell_type": "code",
   "execution_count": 34,
   "id": "b4e1c7b4-2050-4d12-a917-69c092af1f92",
   "metadata": {},
   "outputs": [
    {
     "name": "stdout",
     "output_type": "stream",
     "text": [
      "Hi, My name is Saiful Islam Ronak. I'm 23 years old and a student.\n",
      "After this year my age will be 24.\n"
     ]
    }
   ],
   "source": [
    "name = \"Saiful Islam Ronak\"\n",
    "age = int(23)\n",
    "occopation = \"Student\"\n",
    "\n",
    "print(f\"Hi, My name is {name}. I'm 23 years old and a student.\")\n",
    "print(f\"After this year my age will be {age + 1}.\")"
   ]
  },
  {
   "cell_type": "code",
   "execution_count": 20,
   "id": "63047ad1-4edd-4ad0-8e5d-3ed39dd8240f",
   "metadata": {},
   "outputs": [
    {
     "name": "stdout",
     "output_type": "stream",
     "text": [
      "My name is Saiful Islam Ronak.\n"
     ]
    }
   ],
   "source": [
    "name1 = \"Saiful \"\n",
    "name2 = \"Islam\"\n",
    "name3 = \"Ronak\"\n",
    "print(f\"My name is {name1 + name2} {name[13::]}.\")"
   ]
  },
  {
   "cell_type": "markdown",
   "id": "6be6c207-02f0-4d08-b3a5-07e8f997b53a",
   "metadata": {},
   "source": [
    "# Input"
   ]
  },
  {
   "cell_type": "code",
   "execution_count": 35,
   "id": "d17e7bc2-e835-4c5f-9a3e-59e6af463d5e",
   "metadata": {},
   "outputs": [
    {
     "name": "stdin",
     "output_type": "stream",
     "text": [
      "Name:  Saiful\n",
      "Age:  22\n",
      "Address: Dhaka\n"
     ]
    },
    {
     "name": "stdout",
     "output_type": "stream",
     "text": [
      "Hi, Saiful. You are 22 years old. And you lived in Dhaka.\n"
     ]
    }
   ],
   "source": [
    "name0 = input(\"Name: \")\n",
    "age0 = int(input(\"Age: \"))\n",
    "address0 = input(\"Address:\")\n",
    "print(f\"Hi, {name0}. You are {age0} years old. And you lived in {address0}.\")"
   ]
  },
  {
   "cell_type": "code",
   "execution_count": 26,
   "id": "f402024f-aed5-4f74-a711-ae38f474028e",
   "metadata": {},
   "outputs": [
    {
     "name": "stdin",
     "output_type": "stream",
     "text": [
      "Enter 3 intger using space -  2 4 5\n"
     ]
    },
    {
     "name": "stdout",
     "output_type": "stream",
     "text": [
      "Sum 11\n",
      "Substract =-7\n",
      "Multiply =40\n"
     ]
    }
   ],
   "source": [
    "a, b, c = map(eval, input(\"Enter 3 intger using space - \").split())\n",
    "print(f\"Sum {a+b+c}\\nSubstract ={a-b-c}\\nMultiply ={a*b*c}\")"
   ]
  },
  {
   "cell_type": "code",
   "execution_count": 45,
   "id": "11aed0b9-b53b-4ab7-a5d0-0ae628bb39c5",
   "metadata": {},
   "outputs": [
    {
     "name": "stdin",
     "output_type": "stream",
     "text": [
      "Enter some characters:  kdkfja\n"
     ]
    },
    {
     "name": "stdout",
     "output_type": "stream",
     "text": [
      "The length of data is 6.\n",
      "The type of data is <class 'str'>.\n"
     ]
    }
   ],
   "source": [
    "data = input(\"Enter some characters: \")\n",
    "number_of_data = len(data)\n",
    "\n",
    "print(f\"The length of data is {number_of_data}.\\nThe type of data is {type(data)}.\")"
   ]
  }
 ],
 "metadata": {
  "kernelspec": {
   "display_name": "Python 3 (ipykernel)",
   "language": "python",
   "name": "python3"
  },
  "language_info": {
   "codemirror_mode": {
    "name": "ipython",
    "version": 3
   },
   "file_extension": ".py",
   "mimetype": "text/x-python",
   "name": "python",
   "nbconvert_exporter": "python",
   "pygments_lexer": "ipython3",
   "version": "3.12.2"
  },
  "widgets": {
   "application/vnd.jupyter.widget-state+json": {
    "state": {},
    "version_major": 2,
    "version_minor": 0
   }
  }
 },
 "nbformat": 4,
 "nbformat_minor": 5
}
