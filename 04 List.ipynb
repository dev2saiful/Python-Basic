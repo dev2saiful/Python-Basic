{
 "cells": [
  {
   "cell_type": "code",
   "execution_count": 10,
   "id": "b69b3765-3a19-42cf-a52c-20d6061179ae",
   "metadata": {},
   "outputs": [
    {
     "name": "stdout",
     "output_type": "stream",
     "text": [
      "['Lemon', 'banana', 'Pineapple', 'ManGo', 'Malta', 'watermillon']\n",
      "\n",
      "Lemon is exist  1 times.\n",
      "Index 5 to 9 items are deleted ['apple', 'Lemon', 'orange', 'banana', 'Lichi', 'Malta', 'Papaiya', 'watermillon', 'Olive']\n"
     ]
    }
   ],
   "source": [
    "fruits = ['apple', \"Lemon\", 'orange', 'banana', \"Lichi\", \"Pineapple\", \"Jackfruit\", \"ManGo\", \"Dragonfruit\", \"Malta\", \"Papaiya\", \"watermillon\", \"Olive\"]\n",
    "print(fruits[1:15:2])            # index[start: stop: step]\n",
    "\n",
    "number_of_lemon = fruits.count(\"Lemon\")\n",
    "print(\"\\nLemon is exist \", number_of_lemon, \"times.\")\n",
    "\n",
    "del fruits[5:9]\n",
    "print(\"Index 5 to 9 items are deleted\", fruits)"
   ]
  },
  {
   "cell_type": "markdown",
   "id": "a90ef784-9f59-495d-a142-a4377c12c7cf",
   "metadata": {},
   "source": [
    "# Append, Extend, Insert"
   ]
  },
  {
   "cell_type": "code",
   "execution_count": 27,
   "id": "2fa44fee-73ee-478b-a026-11287c87b972",
   "metadata": {
    "scrolled": true
   },
   "outputs": [
    {
     "name": "stdout",
     "output_type": "stream",
     "text": [
      "['apple', 'Lemon', 'Red Apple', 'Red Apple', 'Red Apple', 'Red Apple', 'Red Apple', 'Red Apple', 'Red Apple', 'Red Apple', 'Red Apple', 'Red Apple', 'Red Apple', 'Red Apple', 'Red Apple', 'Red Apple', 'Red Apple', 'orange', 'banana', 'Lichi', 'Malta', 'Papaiya', 'watermillon', 'Olive', '1Apple', '1Apple', '1orange', '1Mango', '1Pineapple', '1Lichi', '1Apple', '1orange', '1Mango', '1Pineapple', '1Lichi', '1Apple', '1orange', '1Mango', '1Pineapple', '1Lichi', '1Apple', '1orange', '1Mango', '1Pineapple', '1Lichi', '1Apple', '1orange', '1Mango', '1Pineapple', '1Lichi', '1Apple', '1orange', '1Mango', '1Pineapple', '1Lichi', '1Apple', '1orange', '1Mango', '1Pineapple', '1Lichi', '1Apple', '1orange', '1Mango', '1Pineapple', '1Lichi', '1Apple', '1orange', '1Mango', '1Pineapple', '1Lichi', '1Apple', '1orange', '1Mango', '1Pineapple', '1Lichi', '1Apple', '1orange', '1Mango', '1Pineapple', '1Lichi', '1Apple', '1orange', '1Mango', '1Pineapple', '1Lichi', '1Apple', '1orange', '1Mango', '1Pineapple', '1Lichi', '1Apple', '1orange', '1Mango', '1Pineapple', '1Lichi', '1Apple', '1orange', '1Mango', '1Pineapple', '1Lichi', '1Apple']\n",
      "\n",
      " ['apple', 'Lemon', 'Red Apple', 'Red Apple', 'Red Apple', 'Red Apple', 'Red Apple', 'Red Apple', 'Red Apple', 'Red Apple', 'Red Apple', 'Red Apple', 'Red Apple', 'Red Apple', 'Red Apple', 'Red Apple', 'Red Apple', 'orange', 'banana', 'Lichi', 'Malta', 'Papaiya', 'watermillon', 'Olive', '1Apple', '1Apple', '1orange', '1Mango', '1Pineapple', '1Lichi', '1Apple', '1orange', '1Mango', '1Pineapple', '1Lichi', '1Apple', '1orange', '1Mango', '1Pineapple', '1Lichi', '1Apple', '1orange', '1Mango', '1Pineapple', '1Lichi', '1Apple', '1orange', '1Mango', '1Pineapple', '1Lichi', '1Apple', '1orange', '1Mango', '1Pineapple', '1Lichi', '1Apple', '1orange', '1Mango', '1Pineapple', '1Lichi', '1Apple', '1orange', '1Mango', '1Pineapple', '1Lichi', '1Apple', '1orange', '1Mango', '1Pineapple', '1Lichi', '1Apple', '1orange', '1Mango', '1Pineapple', '1Lichi', '1Apple', '1orange', '1Mango', '1Pineapple', '1Lichi', '1Apple', '1orange', '1Mango', '1Pineapple', '1Lichi', '1Apple', '1orange', '1Mango', '1Pineapple', '1Lichi', '1Apple', '1orange', '1Mango', '1Pineapple', '1Lichi', '1Apple', '1orange', '1Mango', '1Pineapple', '1Lichi', '1Apple', '1orange', '1Mango', '1Pineapple', '1Lichi']\n",
      "\n",
      " ['apple', 'Lemon', 'Red Apple', 'Red Apple', 'Red Apple', 'Red Apple', 'Red Apple', 'Red Apple', 'Red Apple', 'Red Apple', 'Red Apple', 'Red Apple', 'Red Apple', 'Red Apple', 'Red Apple', 'Red Apple', 'Red Apple', 'Red Apple', 'orange', 'banana', 'Lichi', 'Malta', 'Papaiya', 'watermillon', 'Olive', '1Apple', '1Apple', '1orange', '1Mango', '1Pineapple', '1Lichi', '1Apple', '1orange', '1Mango', '1Pineapple', '1Lichi', '1Apple', '1orange', '1Mango', '1Pineapple', '1Lichi', '1Apple', '1orange', '1Mango', '1Pineapple', '1Lichi', '1Apple', '1orange', '1Mango', '1Pineapple', '1Lichi', '1Apple', '1orange', '1Mango', '1Pineapple', '1Lichi', '1Apple', '1orange', '1Mango', '1Pineapple', '1Lichi', '1Apple', '1orange', '1Mango', '1Pineapple', '1Lichi', '1Apple', '1orange', '1Mango', '1Pineapple', '1Lichi', '1Apple', '1orange', '1Mango', '1Pineapple', '1Lichi', '1Apple', '1orange', '1Mango', '1Pineapple', '1Lichi', '1Apple', '1orange', '1Mango', '1Pineapple', '1Lichi', '1Apple', '1orange', '1Mango', '1Pineapple', '1Lichi', '1Apple', '1orange', '1Mango', '1Pineapple', '1Lichi', '1Apple', '1orange', '1Mango', '1Pineapple', '1Lichi', '1Apple', '1orange', '1Mango', '1Pineapple', '1Lichi']\n"
     ]
    }
   ],
   "source": [
    "fruits.append(\"1Apple\")\n",
    "a = fruits.copy()\n",
    "print(a)\n",
    "\n",
    "ex_fruits = fruits.extend([\"1orange\", \"1Mango\", \"1Pineapple\", \"1Lichi\"])\n",
    "print(\"\\n\",fruits)\n",
    "\n",
    "ins_fruits = fruits.insert(2, \"Red Apple\")\n",
    "print(\"\\n\",fruits)\n"
   ]
  },
  {
   "cell_type": "markdown",
   "id": "4318afa6-8e1f-45af-8c11-e665f7f22ba1",
   "metadata": {},
   "source": [
    "# Reverse, sort, add"
   ]
  },
  {
   "cell_type": "code",
   "execution_count": 29,
   "id": "054f02fb-9f9e-40b6-8fa2-ad2c6e45984a",
   "metadata": {},
   "outputs": [
    {
     "name": "stdout",
     "output_type": "stream",
     "text": [
      "Sorted:  ['Bely', 'ChinaRose', 'Lily', 'Rose', 'Sumflower', 'Waterlily']\n",
      "Reverse:  ['Waterlily', 'Sumflower', 'Rose', 'Lily', 'ChinaRose', 'Bely']\n"
     ]
    }
   ],
   "source": [
    "flower = [\"Rose\", \"Sumflower\", \"Bely\", \"ChinaRose\", \"Lily\", \"Waterlily\"]\n",
    "flower.sort()\n",
    "print(\"Sorted: \",flower)\n",
    "\n",
    "flower.reverse()\n",
    "print(\"Reverse: \", flower)"
   ]
  },
  {
   "cell_type": "markdown",
   "id": "0fc50b1b-509f-4e53-99a2-4a710003d61f",
   "metadata": {},
   "source": [
    "# Advance"
   ]
  },
  {
   "cell_type": "code",
   "execution_count": 35,
   "id": "e38ff436-4501-4f91-860b-0a33bf8d7eb9",
   "metadata": {},
   "outputs": [
    {
     "name": "stdout",
     "output_type": "stream",
     "text": [
      "['a', 'b']\n"
     ]
    }
   ],
   "source": [
    "my_list = [\"saiful\", 2, [\"a\", \"b\", \"c\"]]\n",
    "print(my_list[2][0:2])"
   ]
  },
  {
   "cell_type": "markdown",
   "id": "be434785-3408-45c3-8f75-57e25dee2fc5",
   "metadata": {},
   "source": [
    "# Comprehensions:"
   ]
  },
  {
   "cell_type": "code",
   "execution_count": 45,
   "id": "faac52d8-3c66-4e1d-a276-4b0f3edeaa1d",
   "metadata": {},
   "outputs": [
    {
     "name": "stdout",
     "output_type": "stream",
     "text": [
      "Square of each items:  [1, 4, 9, 16, 25]\n",
      "Even items are  [2, 4]\n"
     ]
    }
   ],
   "source": [
    "a = [1, 2, 3, 4, 5]\n",
    "result = [x * x for x in a]\n",
    "print(\"Square of each items: \",result)\n",
    "\n",
    "result2 = [x for x in a if x % 2 == 0]\n",
    "print(\"Even items are \", result2)"
   ]
  },
  {
   "cell_type": "markdown",
   "id": "85a11772-69a3-431c-a528-1fffc9ef346c",
   "metadata": {},
   "source": [
    "# Zip function"
   ]
  },
  {
   "cell_type": "code",
   "execution_count": 50,
   "id": "99639d11-ad64-4687-a28f-311feb48f052",
   "metadata": {},
   "outputs": [
    {
     "name": "stdout",
     "output_type": "stream",
     "text": [
      "Zip_function: [(1, 'shahin'), (45, 'saiful'), (52, 'jahid'), (69, 'shuvo')]\n"
     ]
    }
   ],
   "source": [
    "student_id = [1, 45, 52, 69]\n",
    "student_name = ['shahin', 'saiful', 'jahid', 'shuvo']\n",
    "\n",
    "result3 = list(zip(student_id, student_name))\n",
    "print(\"Zip_function:\",result3)"
   ]
  },
  {
   "cell_type": "markdown",
   "id": "a8c1521d-e3da-496c-be11-d34230b4d460",
   "metadata": {},
   "source": [
    "# Pop or remove"
   ]
  },
  {
   "cell_type": "code",
   "execution_count": 10,
   "id": "5853637a-212d-4c9b-aa30-dd7a0bc6d505",
   "metadata": {},
   "outputs": [
    {
     "name": "stdout",
     "output_type": "stream",
     "text": [
      "a: [1, 2, 3, 't']\n",
      "b: r\n"
     ]
    }
   ],
   "source": [
    "a = [1, 2, 3, \"r\", \"t\"]\n",
    "b = a.pop(3)                 # pop(index); it will remove specific item and return specific item\n",
    "print(f\"a: {a}\\nb: {b}\")"
   ]
  }
 ],
 "metadata": {
  "kernelspec": {
   "display_name": "Python 3 (ipykernel)",
   "language": "python",
   "name": "python3"
  },
  "language_info": {
   "codemirror_mode": {
    "name": "ipython",
    "version": 3
   },
   "file_extension": ".py",
   "mimetype": "text/x-python",
   "name": "python",
   "nbconvert_exporter": "python",
   "pygments_lexer": "ipython3",
   "version": "3.12.2"
  },
  "widgets": {
   "application/vnd.jupyter.widget-state+json": {
    "state": {},
    "version_major": 2,
    "version_minor": 0
   }
  }
 },
 "nbformat": 4,
 "nbformat_minor": 5
}
