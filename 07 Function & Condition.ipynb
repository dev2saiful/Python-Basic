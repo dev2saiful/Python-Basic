{
 "cells": [
  {
   "cell_type": "markdown",
   "id": "22ebb165-1170-4c9f-8b5b-5d7ef0e14581",
   "metadata": {},
   "source": [
    "# Domain function"
   ]
  },
  {
   "cell_type": "code",
   "execution_count": 1,
   "id": "7787af24-e597-425d-9637-5c95c5478ba7",
   "metadata": {},
   "outputs": [
    {
     "name": "stdout",
     "output_type": "stream",
     "text": [
      "-5\n"
     ]
    }
   ],
   "source": [
    "def fun1(x):\n",
    "    result = (x*x*x)-(4*x*x)-(6*x)\n",
    "    return (result)\n",
    "\n",
    "print(fun1(5))"
   ]
  },
  {
   "cell_type": "markdown",
   "id": "dc24f044-243c-478f-ba31-790f250d1873",
   "metadata": {},
   "source": [
    "# Hours to Seconds"
   ]
  },
  {
   "cell_type": "code",
   "execution_count": 14,
   "id": "3170d3a6-c3d0-412a-aee1-0c6eef3fe0c0",
   "metadata": {},
   "outputs": [
    {
     "name": "stdin",
     "output_type": "stream",
     "text": [
      "Enter hours:  0.5\n"
     ]
    },
    {
     "name": "stdout",
     "output_type": "stream",
     "text": [
      "1800.0\n"
     ]
    }
   ],
   "source": [
    "def hour_to_second(hour):\n",
    "    minites = hour_to_min(hour)\n",
    "    return (minites * 60)\n",
    "\n",
    "def hour_to_min(hour):\n",
    "    return (hour * 60)\n",
    "\n",
    "given_hours = float(input(\"Enter hours: \"))\n",
    "print(hour_to_second(given_hours))"
   ]
  },
  {
   "cell_type": "markdown",
   "id": "d6f3d322-7667-4f4d-be50-c1026c1271a9",
   "metadata": {},
   "source": [
    "# Vowels counter & shower"
   ]
  },
  {
   "cell_type": "code",
   "execution_count": 34,
   "id": "963be457-52e3-4f54-98ac-2ddca928a3d5",
   "metadata": {},
   "outputs": [
    {
     "name": "stdin",
     "output_type": "stream",
     "text": [
      "Enter your text:  I am a student 1.\n"
     ]
    },
    {
     "name": "stdout",
     "output_type": "stream",
     "text": [
      "There are 5 vowles exist which are 'Iaaue'.\n"
     ]
    }
   ],
   "source": [
    "def vowles_counter(text): \n",
    "    num_vowles = 0\n",
    "    vowles = \"\"\n",
    "    for char in text:\n",
    "        if char in \"AaEeIiOoUu\": \n",
    "            num_vowles += 1\n",
    "            vowles += char\n",
    "    return f\"There are {num_vowles} vowles exist which are '{vowles}'.\"\n",
    "print(vowles_counter(input(\"Enter your text: \")))"
   ]
  },
  {
   "cell_type": "markdown",
   "id": "54dafc82-2940-4559-8f63-47e70e0d9ba6",
   "metadata": {},
   "source": [
    "# Find everything from a line"
   ]
  },
  {
   "cell_type": "code",
   "execution_count": 47,
   "id": "628b9e61-fd32-45cc-a1a6-ee7189f96ea2",
   "metadata": {},
   "outputs": [
    {
     "name": "stdin",
     "output_type": "stream",
     "text": [
      "Enter your line:  3432243\n"
     ]
    },
    {
     "name": "stdout",
     "output_type": "stream",
     "text": [
      "Characters = 7\n",
      "Letter = 0\n",
      "Digit = 7\n",
      "Vowels = 0\n",
      "Consonant = 0\n",
      "Space = 0\n",
      "Special characters = 0\n"
     ]
    }
   ],
   "source": [
    "def func(line): \n",
    "    num_of_characters = len(line)\n",
    "    num_of_letter = sum(char.isalpha() for char in line)\n",
    "    num_of_digit = sum(char.isdigit() for char in line)\n",
    "    num_of_vowles = check_vowels(line)\n",
    "    num_of_conso = num_of_letter - num_of_vowles\n",
    "    num_of_space = sum(char.isspace() for char in line)\n",
    "    num_of_special_characters = num_of_characters - num_of_letter - num_of_digit - num_of_space\n",
    "    \n",
    "    \n",
    "    return f\"Characters = {num_of_characters}\\nLetter = {num_of_letter}\\nDigit = {num_of_digit}\\nVowels = {num_of_vowles}\\nConsonant = {num_of_conso}\\nSpace = {num_of_space}\\nSpecial characters = {num_of_special_characters}\"\n",
    "\n",
    "def check_vowels(text): \n",
    "    num_vowel = 0\n",
    "    for char in text:\n",
    "        if char in \"aeiouAEIOU\":\n",
    "            num_vowel += 1\n",
    "    return num_vowel\n",
    "\n",
    "print(func(input(\"Enter your line: \")))"
   ]
  },
  {
   "cell_type": "markdown",
   "id": "ced0a59e-bd95-4751-86ec-8874c419b323",
   "metadata": {},
   "source": [
    "# map function"
   ]
  },
  {
   "cell_type": "code",
   "execution_count": 2,
   "id": "426d8e01-47f9-40f8-92ae-983d8af13784",
   "metadata": {},
   "outputs": [
    {
     "name": "stdout",
     "output_type": "stream",
     "text": [
      "The square of [1, 3, 5, 7, 9] is [1, 9, 25, 49, 81]\n"
     ]
    }
   ],
   "source": [
    "def square(num): \n",
    "    return num * num\n",
    "\n",
    "a = [1,3,5,7,9]\n",
    "result = list(map(square, a))\n",
    "print(f\"The square of {a} is {result}\")"
   ]
  },
  {
   "cell_type": "markdown",
   "id": "40df8773-9ece-4ea6-beab-33075b60d8e0",
   "metadata": {},
   "source": [
    "# Question & Answer"
   ]
  },
  {
   "cell_type": "code",
   "execution_count": null,
   "id": "a7dc2f1c-9753-43aa-83aa-9e9ae77d5481",
   "metadata": {},
   "outputs": [
    {
     "name": "stdout",
     "output_type": "stream",
     "text": [
      "\n",
      "My keys are -  dict_keys(['name', 'age', 'skill', 'status'])\n"
     ]
    },
    {
     "name": "stdin",
     "output_type": "stream",
     "text": [
      "Enter the key:  name\n"
     ]
    },
    {
     "name": "stdout",
     "output_type": "stream",
     "text": [
      "Saiful Islam\n"
     ]
    },
    {
     "name": "stdin",
     "output_type": "stream",
     "text": [
      "Enter the key:  status\n"
     ]
    },
    {
     "name": "stdout",
     "output_type": "stream",
     "text": [
      "student\n"
     ]
    },
    {
     "name": "stdin",
     "output_type": "stream",
     "text": [
      "Enter the key:  Name\n"
     ]
    },
    {
     "name": "stdout",
     "output_type": "stream",
     "text": [
      "Not Found\n"
     ]
    },
    {
     "name": "stdin",
     "output_type": "stream",
     "text": [
      "Enter the key:  skill\n"
     ]
    },
    {
     "name": "stdout",
     "output_type": "stream",
     "text": [
      "OOP, Wordpress, Python\n"
     ]
    }
   ],
   "source": [
    "about_me = {\"name\" : \"Saiful Islam\",\n",
    "            \"age\" : 23,\n",
    "            \"skill\" : \"OOP, Wordpress, Python\",\n",
    "            \"status\" : \"student\"}\n",
    "\n",
    "def fun1(key):\n",
    "  i = 0\n",
    "  while i < 100:\n",
    "    print(key.get(input(\"Enter the key: \"), \"Not Found\"))\n",
    "    i = +1\n",
    "\n",
    "print(\"\\nMy keys are - \", about_me.keys())\n",
    "print(fun1(about_me))"
   ]
  }
 ],
 "metadata": {
  "kernelspec": {
   "display_name": "Python 3 (ipykernel)",
   "language": "python",
   "name": "python3"
  },
  "language_info": {
   "codemirror_mode": {
    "name": "ipython",
    "version": 3
   },
   "file_extension": ".py",
   "mimetype": "text/x-python",
   "name": "python",
   "nbconvert_exporter": "python",
   "pygments_lexer": "ipython3",
   "version": "3.12.2"
  },
  "widgets": {
   "application/vnd.jupyter.widget-state+json": {
    "state": {},
    "version_major": 2,
    "version_minor": 0
   }
  }
 },
 "nbformat": 4,
 "nbformat_minor": 5
}
