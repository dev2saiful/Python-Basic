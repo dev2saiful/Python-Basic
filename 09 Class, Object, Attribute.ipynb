{
 "cells": [
  {
   "cell_type": "markdown",
   "id": "85e65d28-af37-4de9-9ead-529a23cef8ee",
   "metadata": {},
   "source": [
    "# Create Class & Object"
   ]
  },
  {
   "cell_type": "code",
   "execution_count": 4,
   "id": "e218835c-c866-43ff-9248-83fd87827b30",
   "metadata": {},
   "outputs": [
    {
     "name": "stdout",
     "output_type": "stream",
     "text": [
      "2 + 3 = 5\n"
     ]
    }
   ],
   "source": [
    "class my_class:         # create class \n",
    "    x = 2\n",
    "    y = 3\n",
    "    add = x + y\n",
    "\n",
    "my_object = my_class()   # create object\n",
    "print(my_object.x, \"+\",my_object.y,\"=\", my_object.add)"
   ]
  },
  {
   "cell_type": "markdown",
   "id": "04587150-24f4-4a05-a08c-164d5b1b7c88",
   "metadata": {},
   "source": [
    "# \"_init_\" build-in function"
   ]
  },
  {
   "cell_type": "code",
   "execution_count": 14,
   "id": "d345079a-498c-457f-b642-4705a8035153",
   "metadata": {},
   "outputs": [
    {
     "name": "stdout",
     "output_type": "stream",
     "text": [
      "<__main__.class_1 object at 0x0000028025F297C0>\n",
      "Name: Saiful\n",
      "Age: 24\n"
     ]
    }
   ],
   "source": [
    "class class_1:         \n",
    "    def __init__(self, name, age): \n",
    "        self.a = name \n",
    "        self.b = age\n",
    "\n",
    "object_1 = class_1(\"Saiful\", 24)\n",
    "\n",
    "print(object_1)\n",
    "print(f\"Name: {object_1.a}\\nAge: {object_1.b}\")"
   ]
  },
  {
   "cell_type": "markdown",
   "id": "8b4e4ae8-c29c-49c1-b876-751f7501c56a",
   "metadata": {},
   "source": [
    "# Applications"
   ]
  },
  {
   "cell_type": "code",
   "execution_count": 19,
   "id": "3eccb84c-0c1d-414a-b56b-ede8f9f5457d",
   "metadata": {},
   "outputs": [
    {
     "data": {
      "text/plain": [
       "'My name is Ronak. My roll is 45.'"
      ]
     },
     "execution_count": 19,
     "metadata": {},
     "output_type": "execute_result"
    }
   ],
   "source": [
    "class class_2: \n",
    "    def __init__(abc, name, roll): \n",
    "        abc.Name = name\n",
    "        abc.Roll = roll\n",
    "    def output(efg): \n",
    "        return f\"My name is {efg.Name}. My roll is {efg.Roll}.\"\n",
    "\n",
    "object_2 = class_2(\"Ronak\", 45)\n",
    "object_2.output()"
   ]
  },
  {
   "cell_type": "markdown",
   "id": "f383d64e-f508-4bf4-a58d-e7e2d0dbc31c",
   "metadata": {},
   "source": [
    "# Change object value"
   ]
  },
  {
   "cell_type": "code",
   "execution_count": 23,
   "id": "6468eb1d-40bd-4ad3-9636-9c8889f768a6",
   "metadata": {},
   "outputs": [
    {
     "name": "stdout",
     "output_type": "stream",
     "text": [
      "10\n"
     ]
    }
   ],
   "source": [
    "object_2.Roll = 10\n",
    "print(object_2.Roll)"
   ]
  },
  {
   "cell_type": "markdown",
   "id": "cf812235-befa-4469-a79a-3a89a66b356d",
   "metadata": {},
   "source": [
    "# Delete Object and Object's properties"
   ]
  },
  {
   "cell_type": "code",
   "execution_count": 25,
   "id": "a9cd4fa5-2124-4123-a10d-2593498a3118",
   "metadata": {},
   "outputs": [
    {
     "ename": "AttributeError",
     "evalue": "'class_2' object has no attribute 'Roll'",
     "output_type": "error",
     "traceback": [
      "\u001b[1;31m---------------------------------------------------------------------------\u001b[0m",
      "\u001b[1;31mAttributeError\u001b[0m                            Traceback (most recent call last)",
      "Cell \u001b[1;32mIn[25], line 1\u001b[0m\n\u001b[1;32m----> 1\u001b[0m \u001b[38;5;28;01mdel\u001b[39;00m \u001b[43mobject_2\u001b[49m\u001b[38;5;241;43m.\u001b[39;49m\u001b[43mRoll\u001b[49m\n\u001b[0;32m      2\u001b[0m \u001b[38;5;28mprint\u001b[39m(\u001b[38;5;28mobject\u001b[39m\u001b[38;5;241m.\u001b[39mRoll)\n\u001b[0;32m      4\u001b[0m \u001b[38;5;28;01mdel\u001b[39;00m object_2\n",
      "\u001b[1;31mAttributeError\u001b[0m: 'class_2' object has no attribute 'Roll'"
     ]
    }
   ],
   "source": [
    "del object_2.Roll\n",
    "print(object.Roll)\n",
    "\n",
    "del object_2\n",
    "print(object_2)"
   ]
  }
 ],
 "metadata": {
  "kernelspec": {
   "display_name": "Python 3 (ipykernel)",
   "language": "python",
   "name": "python3"
  },
  "language_info": {
   "codemirror_mode": {
    "name": "ipython",
    "version": 3
   },
   "file_extension": ".py",
   "mimetype": "text/x-python",
   "name": "python",
   "nbconvert_exporter": "python",
   "pygments_lexer": "ipython3",
   "version": "3.12.2"
  },
  "widgets": {
   "application/vnd.jupyter.widget-state+json": {
    "state": {},
    "version_major": 2,
    "version_minor": 0
   }
  }
 },
 "nbformat": 4,
 "nbformat_minor": 5
}
