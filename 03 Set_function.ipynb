{
 "cells": [
  {
   "cell_type": "code",
   "execution_count": 16,
   "id": "2ed67bf4-d679-40a6-ae9f-8afc65fb21dc",
   "metadata": {},
   "outputs": [
    {
     "name": "stdout",
     "output_type": "stream",
     "text": [
      "{True, 2.3, 23, 'Ronak', 'Artcell', 'Saiful', 'Arafat'}\n",
      "7\n"
     ]
    }
   ],
   "source": [
    "# Set is a collection of data which is unordered, unchangeable, and unindexed. Don't allow duplicate value.\n",
    "names = {\"Saiful\", \"Ronak\", \"Arafat\", \"Artcell\", \"Ronak\", 23, 2.3, True}\n",
    "print(names)\n",
    "print(len(names))"
   ]
  },
  {
   "cell_type": "markdown",
   "id": "32a8feb3-2963-43e2-8660-d2658b3c4364",
   "metadata": {},
   "source": [
    "# Add & Removed"
   ]
  },
  {
   "cell_type": "code",
   "execution_count": 15,
   "id": "5214e683-8dde-4633-837f-867ea9f1abd4",
   "metadata": {},
   "outputs": [
    {
     "name": "stdout",
     "output_type": "stream",
     "text": [
      "{True, 2.3, 23, 'Ronak', 'Ankh', 'Saiful'}\n"
     ]
    },
    {
     "ename": "KeyError",
     "evalue": "'Artcell'",
     "output_type": "error",
     "traceback": [
      "\u001b[1;31m---------------------------------------------------------------------------\u001b[0m",
      "\u001b[1;31mKeyError\u001b[0m                                  Traceback (most recent call last)",
      "Cell \u001b[1;32mIn[15], line 3\u001b[0m\n\u001b[0;32m      1\u001b[0m names\u001b[38;5;241m.\u001b[39madd(\u001b[38;5;124m\"\u001b[39m\u001b[38;5;124mAnkh\u001b[39m\u001b[38;5;124m\"\u001b[39m)\n\u001b[0;32m      2\u001b[0m \u001b[38;5;28mprint\u001b[39m(names)\n\u001b[1;32m----> 3\u001b[0m \u001b[43mnames\u001b[49m\u001b[38;5;241;43m.\u001b[39;49m\u001b[43mremove\u001b[49m\u001b[43m(\u001b[49m\u001b[38;5;124;43m\"\u001b[39;49m\u001b[38;5;124;43mArtcell\u001b[39;49m\u001b[38;5;124;43m\"\u001b[39;49m\u001b[43m)\u001b[49m\n\u001b[0;32m      4\u001b[0m \u001b[38;5;28mprint\u001b[39m(names)\n",
      "\u001b[1;31mKeyError\u001b[0m: 'Artcell'"
     ]
    }
   ],
   "source": [
    "names.add(\"Ankh\")\n",
    "print(names)\n",
    "names.remove(\"Artcell\")          # it removes once from the orginal set like names.\n",
    "print(names)"
   ]
  },
  {
   "cell_type": "markdown",
   "id": "cc1ce36a-33e1-46a6-852c-1ec442249e9d",
   "metadata": {},
   "source": [
    "# Delete & Clear"
   ]
  },
  {
   "cell_type": "code",
   "execution_count": 18,
   "id": "0c3ec484-6a94-4cd9-8fe7-ecd9fce9e9dc",
   "metadata": {},
   "outputs": [
    {
     "name": "stdout",
     "output_type": "stream",
     "text": [
      "set()\n"
     ]
    },
    {
     "ename": "NameError",
     "evalue": "name 'names' is not defined",
     "output_type": "error",
     "traceback": [
      "\u001b[1;31m---------------------------------------------------------------------------\u001b[0m",
      "\u001b[1;31mNameError\u001b[0m                                 Traceback (most recent call last)",
      "Cell \u001b[1;32mIn[18], line 5\u001b[0m\n\u001b[0;32m      2\u001b[0m \u001b[38;5;28mprint\u001b[39m(names)\n\u001b[0;32m      4\u001b[0m \u001b[38;5;28;01mdel\u001b[39;00m names\n\u001b[1;32m----> 5\u001b[0m \u001b[38;5;28mprint\u001b[39m(\u001b[43mnames\u001b[49m)\n",
      "\u001b[1;31mNameError\u001b[0m: name 'names' is not defined"
     ]
    }
   ],
   "source": [
    "names.clear()           # it makes empty set by deleting each items of set.\n",
    "print(names)\n",
    "\n",
    "del names               # it will delete the set.\n",
    "print(names)"
   ]
  },
  {
   "cell_type": "markdown",
   "id": "98194ef2-a0a1-41c7-8179-745eba7f89ae",
   "metadata": {},
   "source": [
    "# Intersection, Union, Difference, Sub_set"
   ]
  },
  {
   "cell_type": "code",
   "execution_count": 19,
   "id": "bfa134a1-7ab1-44c1-b3df-b0daea86ca8b",
   "metadata": {},
   "outputs": [
    {
     "name": "stdout",
     "output_type": "stream",
     "text": [
      "Intersection: {4, 5, 6, 7}\n",
      "Union: {1, 2, 3, 4, 5, 6, 7, 8, 9}\n",
      "Difference: {1, 2, 3}\n",
      "Sub set: True\n"
     ]
    }
   ],
   "source": [
    "a = {1,2,3,4,5,6,7}\n",
    "b = {4,5,6,7,8,9}\n",
    "c = {6,7}\n",
    "\n",
    "intersection = a & b\n",
    "union = a | b\n",
    "difference = a - b\n",
    "sub_set = c <= b\n",
    "\n",
    "print(f\"Intersection: {intersection}\\nUnion: {union}\\nDifference: {difference}\\nSub set: {sub_set}\")"
   ]
  },
  {
   "cell_type": "markdown",
   "id": "76ace762-de51-45ba-a3b1-bca253375c78",
   "metadata": {},
   "source": [
    "# Update"
   ]
  },
  {
   "cell_type": "code",
   "execution_count": 23,
   "id": "c2574f00-c715-4999-8b66-372fde9d77e8",
   "metadata": {},
   "outputs": [
    {
     "name": "stdout",
     "output_type": "stream",
     "text": [
      "The updatd set of fruits1:  {'Mango', 'Apple', 'Banana', 'Dates', 'Nuts', 'Pineapple'}\n",
      "Updated fruits2:  {'rice', 'Banana', 'vegetables', 'Apple', 'Pineapple'}\n"
     ]
    }
   ],
   "source": [
    "fruits1 = {\"Mango\", \"Dates\", \"Nuts\"}\n",
    "fruits2 = {\"Banana\", \"Apple\", \"Pineapple\"}\n",
    "fruits1.update(fruits2)\n",
    "print(\"The updatd set of fruits1: \",fruits1)\n",
    "\n",
    "my_list = [\"rice\", \"vegetables\"]\n",
    "fruits2.update(my_list)\n",
    "print(\"Updated fruits2: \", fruits2)"
   ]
  },
  {
   "cell_type": "markdown",
   "id": "43e30487-fbd5-4fe6-9580-d2587de869cb",
   "metadata": {},
   "source": [
    "# Loop in set"
   ]
  },
  {
   "cell_type": "code",
   "execution_count": 25,
   "id": "8ee76fbd-9da2-454c-8d61-f64c2c4167f4",
   "metadata": {},
   "outputs": [
    {
     "name": "stdout",
     "output_type": "stream",
     "text": [
      "Mango\n",
      "Apple\n",
      "Banana\n",
      "Dates\n",
      "Nuts\n",
      "Pineapple\n"
     ]
    }
   ],
   "source": [
    "for item in fruits1:\n",
    "    print(item)"
   ]
  }
 ],
 "metadata": {
  "kernelspec": {
   "display_name": "Python 3 (ipykernel)",
   "language": "python",
   "name": "python3"
  },
  "language_info": {
   "codemirror_mode": {
    "name": "ipython",
    "version": 3
   },
   "file_extension": ".py",
   "mimetype": "text/x-python",
   "name": "python",
   "nbconvert_exporter": "python",
   "pygments_lexer": "ipython3",
   "version": "3.12.2"
  },
  "widgets": {
   "application/vnd.jupyter.widget-state+json": {
    "state": {},
    "version_major": 2,
    "version_minor": 0
   }
  }
 },
 "nbformat": 4,
 "nbformat_minor": 5
}
