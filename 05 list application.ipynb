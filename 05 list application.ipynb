{
 "cells": [
  {
   "cell_type": "markdown",
   "id": "90bcbee3-ad9e-495b-a5a3-ac4df0ebe706",
   "metadata": {},
   "source": [
    "# Add items of two lists"
   ]
  },
  {
   "cell_type": "code",
   "execution_count": 1,
   "id": "aef6b74d-d095-4d25-8241-5a13e1b674ed",
   "metadata": {},
   "outputs": [
    {
     "name": "stdout",
     "output_type": "stream",
     "text": [
      "['az', 'by', 'cx', 'dw', 'ev']\n"
     ]
    }
   ],
   "source": [
    "list1 = ['a', 'b', 'c', 'd', 'e']\n",
    "list2 = ['z', 'y', 'x', 'w', 'v']\n",
    "result = []\n",
    "\n",
    "for i in range(len(list1)): \n",
    "    add = list1[i] + list2[i]\n",
    "    result.append(add)\n",
    "print(result)"
   ]
  },
  {
   "cell_type": "markdown",
   "id": "5586b8f7-4a46-476b-abf8-0a7dbc3d63fd",
   "metadata": {},
   "source": [
    "# Matching items & show in a new list"
   ]
  },
  {
   "cell_type": "code",
   "execution_count": 4,
   "id": "706b8aa4-bc29-4bab-acf7-4d1ffbc0cf82",
   "metadata": {},
   "outputs": [
    {
     "name": "stdout",
     "output_type": "stream",
     "text": [
      "There are 3 items.\n",
      "They are ['a', 'c', 'v']\n"
     ]
    }
   ],
   "source": [
    "def matching_fun(a,b): \n",
    "    new_list = []\n",
    "    count = 0\n",
    "\n",
    "    for i in range(len(a)): \n",
    "        if a[i] == b[i]:\n",
    "            new_list.append(a[i])\n",
    "            count += 1\n",
    "    return f\"There are {count} items.\\nThey are {new_list}\"\n",
    "\n",
    "list3 = ['a', 'b', 'c', 'd', 'v']\n",
    "list4 = ['a', 'y', 'c', 'w', 'v']\n",
    "print(matching_fun(list3, list4))"
   ]
  },
  {
   "cell_type": "markdown",
   "id": "8f493e88-a4aa-419b-882e-417b480bc5bf",
   "metadata": {},
   "source": [
    "# Birthday application"
   ]
  },
  {
   "cell_type": "code",
   "execution_count": 22,
   "id": "36d70178-c123-4623-a199-c660971f11b7",
   "metadata": {},
   "outputs": [
    {
     "name": "stdin",
     "output_type": "stream",
     "text": [
      "Enter your age:  24\n"
     ]
    },
    {
     "name": "stdout",
     "output_type": "stream",
     "text": [
      "Your 25th birthday will come soon.\n"
     ]
    }
   ],
   "source": [
    "def message(a):\n",
    "    number = \"\"\n",
    "    for char in a:\n",
    "        if char.isdigit():\n",
    "            number += char\n",
    "            num = int(number) + int(1)\n",
    "    return f\"Your {num}th birthday will come soon.\"\n",
    "\n",
    "\n",
    "print(message(input(\"Enter your age: \")))"
   ]
  }
 ],
 "metadata": {
  "kernelspec": {
   "display_name": "Python 3 (ipykernel)",
   "language": "python",
   "name": "python3"
  },
  "language_info": {
   "codemirror_mode": {
    "name": "ipython",
    "version": 3
   },
   "file_extension": ".py",
   "mimetype": "text/x-python",
   "name": "python",
   "nbconvert_exporter": "python",
   "pygments_lexer": "ipython3",
   "version": "3.12.2"
  },
  "widgets": {
   "application/vnd.jupyter.widget-state+json": {
    "state": {},
    "version_major": 2,
    "version_minor": 0
   }
  }
 },
 "nbformat": 4,
 "nbformat_minor": 5
}
