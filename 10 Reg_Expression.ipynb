{
 "cells": [
  {
   "cell_type": "markdown",
   "id": "11226990-10ec-4791-ba1f-76f4f38a7e9b",
   "metadata": {},
   "source": [
    "# findall"
   ]
  },
  {
   "cell_type": "code",
   "execution_count": 1,
   "id": "403a4b9f-e994-49d5-821a-0966a90cea69",
   "metadata": {},
   "outputs": [],
   "source": [
    "import re"
   ]
  },
  {
   "cell_type": "code",
   "execution_count": 5,
   "id": "2272e704-5a8c-4ca8-84fd-20c6eb5e2f47",
   "metadata": {},
   "outputs": [
    {
     "name": "stdout",
     "output_type": "stream",
     "text": [
      "['Python', 'Gython', 'Lython']\n"
     ]
    }
   ],
   "source": [
    "pattern = r\"[A-Z]+ython\"\n",
    "text_file = \"Python is one of the best programming language. It is easy to solve any problem with Gython. I love so mutch Lython.\"\n",
    "\n",
    "matching = re.findall(pattern, text_file)\n",
    "print(matching)"
   ]
  },
  {
   "cell_type": "code",
   "execution_count": 6,
   "id": "877c6991-b474-4c90-adff-e529937513c7",
   "metadata": {},
   "outputs": [
    {
     "name": "stdout",
     "output_type": "stream",
     "text": [
      "['P', 'y', 't', 't', 't', 't', 'y', 't', 'y', 't', 'y', 't', 't', 'y', 't']\n",
      "5\n"
     ]
    }
   ],
   "source": [
    "pattern1 = r\"[Pty0]\"            # This pattern matching each alphabet\n",
    "\n",
    "matching1 = re.findall(pattern1, text_file)\n",
    "print(matching1)\n",
    "print(matching1.count(\"y\"))"
   ]
  },
  {
   "cell_type": "code",
   "execution_count": 9,
   "id": "9fb4c988-2258-4075-8b3c-1cde88d7935b",
   "metadata": {},
   "outputs": [
    {
     "name": "stdout",
     "output_type": "stream",
     "text": [
      "['24']\n"
     ]
    }
   ],
   "source": [
    "def checker(sentences): \n",
    "    pattern2 = r\"\\d+\"          # this pattern for finding multiple number (for single use \\d only)\n",
    "\n",
    "    matching2 = re.findall(pattern2, sentences)\n",
    "    return matching2\n",
    "\n",
    "print(checker(\"I am 24 years old.\"))"
   ]
  },
  {
   "cell_type": "markdown",
   "id": "917e8b49-f53e-4371-86d1-b4e898d1e41c",
   "metadata": {},
   "source": [
    "# match"
   ]
  },
  {
   "cell_type": "code",
   "execution_count": 12,
   "id": "bc5c8b91-0d5e-4949-88f5-5da2dbd8ebc8",
   "metadata": {},
   "outputs": [
    {
     "data": {
      "text/plain": [
       "'Your mail is correct.'"
      ]
     },
     "execution_count": 12,
     "metadata": {},
     "output_type": "execute_result"
    }
   ],
   "source": [
    "def mail_checker(mail):\n",
    "    mail_pattern = r\"^[a-z0-9]+@[a-z]+\\.(com|edu|gov|me|org)$\"\n",
    "\n",
    "    if re.match(mail_pattern, mail): \n",
    "        return \"Your mail is correct.\"\n",
    "    else:\n",
    "        return \"Your mail is worng !\"\n",
    "\n",
    "mail_checker(\"sm2saiful@gmail.com\")"
   ]
  },
  {
   "cell_type": "markdown",
   "id": "258060ec-881f-49e9-aad9-677b1bd14bb1",
   "metadata": {},
   "source": [
    "# Application"
   ]
  },
  {
   "cell_type": "code",
   "execution_count": 35,
   "id": "ed8e347e-7bbd-436d-90fe-738549df3062",
   "metadata": {},
   "outputs": [
    {
     "data": {
      "text/plain": [
       "'The white spaces number is 7. After substitue: Hi,@this@is@Saiful.@Can@you@check@me?'"
      ]
     },
     "execution_count": 35,
     "metadata": {},
     "output_type": "execute_result"
    }
   ],
   "source": [
    "def checker23(text): \n",
    "    pattern23 = r\" \"\n",
    "    matching23 = re.findall(pattern23, text)\n",
    "    subtitute23 = re.sub(pattern23, \"@\", text)\n",
    "    return f\"The white spaces number is {matching23.count(\" \")}. After substitue: {subtitute23}\"\n",
    "\n",
    "checker23(\"Hi, this is Saiful. Can you check me?\")"
   ]
  }
 ],
 "metadata": {
  "kernelspec": {
   "display_name": "Python 3 (ipykernel)",
   "language": "python",
   "name": "python3"
  },
  "language_info": {
   "codemirror_mode": {
    "name": "ipython",
    "version": 3
   },
   "file_extension": ".py",
   "mimetype": "text/x-python",
   "name": "python",
   "nbconvert_exporter": "python",
   "pygments_lexer": "ipython3",
   "version": "3.12.2"
  },
  "widgets": {
   "application/vnd.jupyter.widget-state+json": {
    "state": {},
    "version_major": 2,
    "version_minor": 0
   }
  }
 },
 "nbformat": 4,
 "nbformat_minor": 5
}
