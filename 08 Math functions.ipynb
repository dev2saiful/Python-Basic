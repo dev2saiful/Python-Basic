{
 "cells": [
  {
   "cell_type": "code",
   "execution_count": 2,
   "id": "cac59775-e451-4a88-8731-e7e2384ddff4",
   "metadata": {},
   "outputs": [],
   "source": [
    "import math"
   ]
  },
  {
   "cell_type": "markdown",
   "id": "0515fa58-2a1e-4ded-8587-2b373241832d",
   "metadata": {},
   "source": [
    "# Functions"
   ]
  },
  {
   "cell_type": "code",
   "execution_count": 10,
   "id": "7b8685dc-c322-44bb-9492-d28e5a474f7d",
   "metadata": {},
   "outputs": [
    {
     "name": "stdout",
     "output_type": "stream",
     "text": [
      "Minimum: 22\n",
      "Maximum: 196\n",
      "Absolute: 2.34332\n",
      "Power: 32\n",
      "Rounding Number: 32\n",
      "Square root: 8.0\n",
      "Pi: 3.141592653589793\n"
     ]
    }
   ],
   "source": [
    "minimum = min(23, 32, 22, 43, 198)\n",
    "maximum = max(23, 32, 44, 45, 196)\n",
    "absolute = abs(-2.34332)\n",
    "power = pow(2,5)\n",
    "rounding_number = round(32.3432340002)\n",
    "\n",
    "print(f\"Minimum: {minimum}\\nMaximum: {maximum}\\nAbsolute: {absolute}\\nPower: {power}\\nRounding Number: {rounding_number}\")\n",
    "\n",
    "\n",
    "square_root = math.sqrt(64)\n",
    "pi = math.pi\n",
    "\n",
    "print(f\"Square root: {square_root}\\nPi: {pi}\")"
   ]
  },
  {
   "cell_type": "markdown",
   "id": "2194c08e-898c-4033-9995-5e9c27bb6673",
   "metadata": {},
   "source": [
    "# Circle"
   ]
  },
  {
   "cell_type": "code",
   "execution_count": 12,
   "id": "1a028a17-800b-40d5-b942-1779bbb5ebe8",
   "metadata": {},
   "outputs": [
    {
     "name": "stdin",
     "output_type": "stream",
     "text": [
      "Enter the radius of Circle:  23\n"
     ]
    },
    {
     "name": "stdout",
     "output_type": "stream",
     "text": [
      "The area of Circle is  1661.9025137490005\n"
     ]
    }
   ],
   "source": [
    "radius = float(input(\"Enter the radius of Circle: \"))\n",
    "area_circle = math.pi * pow(radius, 2)\n",
    "print(\"The area of Circle is \", area_circle)"
   ]
  },
  {
   "cell_type": "markdown",
   "id": "68c73235-83a3-4a52-999b-201a1ac53d7c",
   "metadata": {},
   "source": [
    "# Ellips"
   ]
  },
  {
   "cell_type": "code",
   "execution_count": 14,
   "id": "a1b44f93-1dd0-4e30-9c20-929cbb6aa698",
   "metadata": {},
   "outputs": [
    {
     "name": "stdin",
     "output_type": "stream",
     "text": [
      "Enter the distance from foci to circumfarance using comma:  2,3\n"
     ]
    },
    {
     "name": "stdout",
     "output_type": "stream",
     "text": [
      "The area of Ellip is  18.84955592153876\n"
     ]
    }
   ],
   "source": [
    "a,b = map(eval, input(\"Enter the distance from foci to circumfarance using comma: \").split(\",\"))\n",
    "area_ellip = math.pi * a * b\n",
    "print(\"The area of Ellip is \", area_ellip)"
   ]
  },
  {
   "cell_type": "markdown",
   "id": "7a6690e4-63f4-464c-a277-7af40385aa0b",
   "metadata": {},
   "source": [
    "# Treapizoide"
   ]
  },
  {
   "cell_type": "code",
   "execution_count": 16,
   "id": "77ecb38f-7916-46af-ac18-d0990724fe8c",
   "metadata": {},
   "outputs": [
    {
     "name": "stdin",
     "output_type": "stream",
     "text": [
      "Enter value of two side then hight using comma:  2,3,4\n"
     ]
    },
    {
     "name": "stdout",
     "output_type": "stream",
     "text": [
      "The area of Teapizoide is  10.0\n"
     ]
    }
   ],
   "source": [
    "a, b, hight = map(eval, input(\"Enter value of two side then hight using comma: \").split(\",\"))\n",
    "area_treapizoide = 0.5 * (a+b) * hight\n",
    "print(\"The area of Teapizoide is \", area_treapizoide)"
   ]
  },
  {
   "cell_type": "markdown",
   "id": "e9a0e337-6a50-4b2a-a040-731684965c06",
   "metadata": {},
   "source": [
    "# Finding Maximum Number"
   ]
  },
  {
   "cell_type": "code",
   "execution_count": 22,
   "id": "33b94102-0710-4166-95a6-0ae6eefaac40",
   "metadata": {},
   "outputs": [
    {
     "name": "stdin",
     "output_type": "stream",
     "text": [
      "Enter three int value using comma:  6, 2, 0\n"
     ]
    },
    {
     "name": "stdout",
     "output_type": "stream",
     "text": [
      "6\n"
     ]
    }
   ],
   "source": [
    "a,b,c = map(eval, input(\"Enter three int value using comma: \").split(\",\"))\n",
    "maximum_number = a if a>b and a>c else b if b>a and b>c else c\n",
    "print(maximum_number)"
   ]
  },
  {
   "cell_type": "markdown",
   "id": "047b1601-4298-4f27-826b-acde57a4becd",
   "metadata": {},
   "source": [
    "# Finding Maximum Number in Advance Level"
   ]
  },
  {
   "cell_type": "code",
   "execution_count": 32,
   "id": "b9b1b44f-e4c4-46cd-b764-aac42fd3a37a",
   "metadata": {},
   "outputs": [
    {
     "name": "stdin",
     "output_type": "stream",
     "text": [
      "Enter three int number using comma:  3,2,3\n"
     ]
    },
    {
     "name": "stdout",
     "output_type": "stream",
     "text": [
      "a and c are equal and the maximum value is 3\n"
     ]
    }
   ],
   "source": [
    "def check(a, b, c):\n",
    "    greatest_num = max(a,b,c)\n",
    "    if a == b == c: \n",
    "        return f\"Three numbers are equal and the value is {greatest_num}\"\n",
    "    elif a==b and a==greatest_num: \n",
    "        return f\"a and b are equal and the maximum value is {greatest_num}\"\n",
    "    elif a==c and a==greatest_num:\n",
    "        return f\"a and c are equal and the maximum value is {greatest_num}\"\n",
    "    elif b==c and b==greatest_num: \n",
    "        return f\"b and c are equal and the maximum value is {greatest_num}\"\n",
    "    else: \n",
    "        return f\"The maximum value is {greatest_num}\"\n",
    "\n",
    "a,b,c = map(eval, input(\"Enter three int number using comma: \").split(\",\"))\n",
    "print(check(a,b,c))"
   ]
  },
  {
   "cell_type": "markdown",
   "id": "1116e707-395c-4105-9e1b-cb9a1ad37711",
   "metadata": {},
   "source": [
    "# 1^1+2^2+3^3+4^4+5^5+6^6+...+n^n"
   ]
  },
  {
   "cell_type": "code",
   "execution_count": 44,
   "id": "c464bf9c-2819-40b7-b4b8-b519bedea760",
   "metadata": {},
   "outputs": [
    {
     "name": "stdout",
     "output_type": "stream",
     "text": [
      "1*1 + 2*2 + 3*3 + 4*4 + 5*5 =  55\n"
     ]
    }
   ],
   "source": [
    "def cal(n): \n",
    "    sum_num = 0\n",
    "    for x in range(1, n+1):\n",
    "        sum_num = sum_num + x*x\n",
    "    return sum_num\n",
    "\n",
    "print(\"1*1 + 2*2 + 3*3 + 4*4 + 5*5 = \",cal(5))"
   ]
  },
  {
   "cell_type": "markdown",
   "id": "c1fe93d9-4f4a-4ad1-8986-96b7cf5a68db",
   "metadata": {},
   "source": [
    "# Pyramid"
   ]
  },
  {
   "cell_type": "code",
   "execution_count": 79,
   "id": "23cf7c0a-2084-4da6-9bb7-95f9ecdbc9cb",
   "metadata": {},
   "outputs": [
    {
     "name": "stdout",
     "output_type": "stream",
     "text": [
      "     *\n",
      "    * *\n",
      "   * * *\n",
      "  * * * *\n",
      " * * * * *\n"
     ]
    }
   ],
   "source": [
    "def pyramid(n): \n",
    "    for x in range(1, n+1): \n",
    "        print(\" \" * (n-x), end=\"\")\n",
    "        print(\" *\" * x)\n",
    "        \n",
    "pyramid(5)"
   ]
  },
  {
   "cell_type": "code",
   "execution_count": 92,
   "id": "a42eac7e-b1a7-4d02-b863-44affa59aff8",
   "metadata": {},
   "outputs": [
    {
     "name": "stdout",
     "output_type": "stream",
     "text": [
      "[]\n",
      "[1]\n",
      "[1, 2]\n",
      "[1, 2, 3]\n",
      "[1, 2, 3, 4]\n",
      "[1, 2, 3, 4, 5]\n"
     ]
    }
   ],
   "source": [
    "def pyra_num(list): \n",
    "    for i in range(len(list)+1):\n",
    "        result = list[:i]\n",
    "        print(result)\n",
    "\n",
    "pyra_num([1,2,3,4,5])"
   ]
  }
 ],
 "metadata": {
  "kernelspec": {
   "display_name": "Python 3 (ipykernel)",
   "language": "python",
   "name": "python3"
  },
  "language_info": {
   "codemirror_mode": {
    "name": "ipython",
    "version": 3
   },
   "file_extension": ".py",
   "mimetype": "text/x-python",
   "name": "python",
   "nbconvert_exporter": "python",
   "pygments_lexer": "ipython3",
   "version": "3.12.2"
  },
  "widgets": {
   "application/vnd.jupyter.widget-state+json": {
    "state": {},
    "version_major": 2,
    "version_minor": 0
   }
  }
 },
 "nbformat": 4,
 "nbformat_minor": 5
}
