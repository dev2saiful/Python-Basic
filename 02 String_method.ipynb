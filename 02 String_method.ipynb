{
 "cells": [
  {
   "cell_type": "code",
   "execution_count": 8,
   "id": "843e631a-47b9-49e0-b6b9-312ec89b9566",
   "metadata": {},
   "outputs": [
    {
     "name": "stdout",
     "output_type": "stream",
     "text": [
      "The length of name is 23\n",
      "The length of name after strip is 21.\n"
     ]
    }
   ],
   "source": [
    "name = \" MD Saiful Islam Ronak \"\n",
    "b = name.strip()                # remove leading & trailing whitespace\n",
    "print(f\"The length of name is {len(name)}\\nThe length of name after strip is {len(b)}.\")"
   ]
  },
  {
   "cell_type": "code",
   "execution_count": 9,
   "id": "9a4095bb-4372-4d4c-96cc-cc8ff2ff1ff8",
   "metadata": {},
   "outputs": [
    {
     "name": "stdout",
     "output_type": "stream",
     "text": [
      "Capital :  MD SAIFUL ISLAM RONAK \n",
      "Smaller :  md saiful islam ronak \n"
     ]
    }
   ],
   "source": [
    "capital = name.upper()\n",
    "smaller = name.lower()\n",
    "print(f\"Capital : {capital}\\nSmaller : {smaller}\")"
   ]
  },
  {
   "cell_type": "code",
   "execution_count": 21,
   "id": "715adb92-3d1e-4a7c-ab6c-c9e946e25941",
   "metadata": {},
   "outputs": [
    {
     "name": "stdout",
     "output_type": "stream",
     "text": [
      "['MD', 'Saiful', 'Islam', 'Ronak']\n",
      "m MD Saiful Islam Ronak y MD Saiful Islam Ronak   MD Saiful Islam Ronak n MD Saiful Islam Ronak a MD Saiful Islam Ronak m MD Saiful Islam Ronak e MD Saiful Islam Ronak   MD Saiful Islam Ronak i MD Saiful Islam Ronak s MD Saiful Islam Ronak  \n"
     ]
    }
   ],
   "source": [
    "splitter = name.split()         # convert into list\n",
    "print(splitter)\n",
    "\n",
    "d = \"my name is \"\n",
    "my_name = name.join(d)       # join each item from list\n",
    "print(my_name)"
   ]
  },
  {
   "cell_type": "code",
   "execution_count": 28,
   "id": "3707cb12-cb40-425f-95ab-fe204e4d8bc8",
   "metadata": {},
   "outputs": [
    {
     "name": "stdout",
     "output_type": "stream",
     "text": [
      "Now my name is  MD Saiful Islam Arafat .\n"
     ]
    }
   ],
   "source": [
    "new_name = name.replace(\"Ronak\", \"Arafat\")\n",
    "print(f\"Now my name is {new_name}.\")"
   ]
  }
 ],
 "metadata": {
  "kernelspec": {
   "display_name": "Python 3 (ipykernel)",
   "language": "python",
   "name": "python3"
  },
  "language_info": {
   "codemirror_mode": {
    "name": "ipython",
    "version": 3
   },
   "file_extension": ".py",
   "mimetype": "text/x-python",
   "name": "python",
   "nbconvert_exporter": "python",
   "pygments_lexer": "ipython3",
   "version": "3.12.2"
  },
  "widgets": {
   "application/vnd.jupyter.widget-state+json": {
    "state": {},
    "version_major": 2,
    "version_minor": 0
   }
  }
 },
 "nbformat": 4,
 "nbformat_minor": 5
}
