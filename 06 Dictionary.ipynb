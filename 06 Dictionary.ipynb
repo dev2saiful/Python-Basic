{
 "cells": [
  {
   "cell_type": "code",
   "execution_count": 83,
   "id": "056e9e28-7891-4c28-a996-47f256f64944",
   "metadata": {},
   "outputs": [
    {
     "name": "stdout",
     "output_type": "stream",
     "text": [
      "Saiful Islam\n",
      "{'name': 'Saiful Islam', 'age': 24, 'skill': ['C', 'C++', 'html', 'css', 'wordpress', 'OOP', 'Assembly Language', 'Python']}\n",
      "The lenght of dictionary is 3\n",
      "\n",
      "24\n",
      "\n",
      " dict_keys(['name', 'age', 'skill']) \n",
      " dict_values(['Saiful Islam', 24, ['C', 'C++', 'html', 'css', 'wordpress', 'OOP', 'Assembly Language', 'Python']])\n",
      "\n",
      " dict_items([('name', 'Saiful Islam'), ('age', 24), ('skill', ['C', 'C++', 'html', 'css', 'wordpress', 'OOP', 'Assembly Language', 'Python'])])\n"
     ]
    }
   ],
   "source": [
    "# dictionary is a collection of data which is ordered, changeable and duplicate is not allowed.\n",
    "dic1 = {\"name\" : \"Saiful Islam\",\n",
    "        \"age\" : 23,\n",
    "        \"skill\": [\"C\", \"C++\", \"html\", \"css\", \"wordpress\", \"OOP\", \"Assembly Language\", \"Python\"],\n",
    "        \"age\" : 24}\n",
    "\n",
    "print(dic1['name'])\n",
    "print(f\"{dic1}\\nThe lenght of dictionary is {len(dic1)}\\n\")\n",
    "print(dic1.get(\"age\", \"Sorry, Not Found!\"))        # get shows value of given key\n",
    "print(\"\\n\",dic1.keys(),\"\\n\",dic1.values())\n",
    "print(\"\\n\",dic1.items())                           # it will shows all the pairs of keys and values"
   ]
  },
  {
   "cell_type": "markdown",
   "id": "d54d67a0-8a13-4e02-acee-16ed3db30ad2",
   "metadata": {},
   "source": [
    "# Access items"
   ]
  },
  {
   "cell_type": "code",
   "execution_count": 54,
   "id": "a63197d3-4b93-4122-adaa-e3687431a9d4",
   "metadata": {},
   "outputs": [
    {
     "name": "stdout",
     "output_type": "stream",
     "text": [
      "{'name': 'Md Saiful Islam', 'university_name': 'ISTT', 'passing_year': 2024, 'CGPA': 3.33}\n",
      "\n",
      "After POP: {'name': 'Md Saiful Islam', 'passing_year': 2024, 'CGPA': 3.33}\n",
      "\n",
      "All keys and values are deleted :{}\n"
     ]
    }
   ],
   "source": [
    "dic2 = {\"name\" : \"Md Saiful Islam\",\n",
    "        \"university_name\" : \"ISTT\",\n",
    "        \"passing_year\" : 2023}\n",
    "change = dic2.update({\"passing_year\": 2024})\n",
    "add = dic2.update({\"CGPA\": 3.33})\n",
    "print(dic2)\n",
    "\n",
    "delete = dic2.pop(\"university_name\")\n",
    "print(f\"\\nAfter POP: {dic2}\")\n",
    "\n",
    "dic2.clear()\n",
    "print(f\"\\nAll keys and values are deleted :{dic2}\")"
   ]
  },
  {
   "cell_type": "markdown",
   "id": "25525c00-9e3c-4be5-9771-dba9d8868db6",
   "metadata": {},
   "source": [
    "# Looping"
   ]
  },
  {
   "cell_type": "code",
   "execution_count": 62,
   "id": "dd6afc55-3eba-43c8-a850-fec701738b7c",
   "metadata": {
    "scrolled": true
   },
   "outputs": [
    {
     "name": "stdout",
     "output_type": "stream",
     "text": [
      "Loop for Keys:\n",
      "name\n",
      "Profession\n",
      "Institute_name\n",
      "passing year\n",
      "skill\n",
      "age\n",
      "\n",
      "Loop for Values:\n",
      "Md Saiful Islam Ronak\n",
      "Student\n",
      "ISTT\n",
      "2024\n",
      "['OOP', 'C++', 'Web developer', 'Python developer', 'Researcher']\n",
      "24\n",
      "\n",
      "Loop for keys and values:\n",
      "name = Md Saiful Islam Ronak\n",
      "Profession = Student\n",
      "Institute_name = ISTT\n",
      "passing year = 2024\n",
      "skill = ['OOP', 'C++', 'Web developer', 'Python developer', 'Researcher']\n",
      "age = 24\n"
     ]
    }
   ],
   "source": [
    "dic3 = {\"name\" : \"Md Saiful Islam Ronak\",\n",
    "       \"Profession\" : \"Student\",\n",
    "       \"Institute_name\" : \"ISTT\",\n",
    "       \"passing year\" : 2024, \n",
    "       \"skill\" : [\"OOP\", \"C++\", \"Web developer\", \"Python developer\", \"Researcher\"], \n",
    "       \"age\" : 24}\n",
    "\n",
    "print(\"Loop for Keys:\")\n",
    "for keys in dic3.keys():\n",
    "    print(keys)\n",
    "\n",
    "print(\"\\nLoop for Values:\")\n",
    "for values in dic3.values():\n",
    "    print(values)\n",
    "\n",
    "print(\"\\nLoop for keys and values:\")\n",
    "for key, value in dic3.items():\n",
    "    print(f\"{key} = {value}\")"
   ]
  },
  {
   "cell_type": "markdown",
   "id": "358df1c5-eba4-40fc-80b1-2621dfedb7de",
   "metadata": {},
   "source": [
    "# Nested dictionary"
   ]
  },
  {
   "cell_type": "code",
   "execution_count": 69,
   "id": "649605b2-4491-4e25-8b29-6b14d6cbf174",
   "metadata": {},
   "outputs": [
    {
     "name": "stdout",
     "output_type": "stream",
     "text": [
      "{'Food': {'fav_fruits': 'mango, dates', 'fav_juce': 'lemon juce , mango juce', 'fav_drink': 'red owine', 'fav_dinner': 'Kachiee'}, 'Game': {'onlien': 'free fire', 'off_line': 'football'}, 'Fav_Subject': {'for_study': 'mathematics', 'for_research': 'communication'}}\n",
      "My favourite fruits are  mango, dates\n"
     ]
    }
   ],
   "source": [
    "food = {\n",
    "    \"fav_fruits\": \"mango, dates\",\n",
    "    \"fav_juce\": \"lemon juce , mango juce\",\n",
    "    \"fav_drink\": \"red owine\",\n",
    "    \"fav_dinner\": \"Kachiee\"}\n",
    "game = {\n",
    "    \"onlien\": \"free fire\",\n",
    "    \"off_line\": \"football\"}\n",
    "fav_subject = {\n",
    "    \"for_study\": \"mathematics\",\n",
    "    \"for_research\": \"communication\"}\n",
    "\n",
    "my_choice1 = {\n",
    "    \"Food\" : food,\n",
    "    \"Game\" : game,\n",
    "    \"Fav_Subject\" : fav_subject\n",
    "}\n",
    "print(my_choice1)\n",
    "print(\"My favourite fruits are \",my_choice1['Food']['fav_fruits'])"
   ]
  },
  {
   "cell_type": "code",
   "execution_count": 82,
   "id": "40458dcf-3eb3-4257-9815-8829ee25af1f",
   "metadata": {},
   "outputs": [
    {
     "name": "stdout",
     "output_type": "stream",
     "text": [
      "\n",
      "Food:\n",
      "fav_fruits = mango, dates\n",
      "fav_juce = lemon juce , mango juce\n",
      "fav_drink = red owine\n",
      "fav_dinner = Kachiee\n",
      "\n",
      "Game:\n",
      "onlien = free fire\n",
      "off_line = football\n",
      "\n",
      "Fav_Subject:\n",
      "for_study = mathematics\n",
      "for_research = communication\n"
     ]
    }
   ],
   "source": [
    "for key1, values in my_choice1.items(): \n",
    "    print(f\"\\n{key1}:\")\n",
    "    for key2 in values:\n",
    "        print(f\"{key2} = {values[key2]}\")"
   ]
  },
  {
   "cell_type": "markdown",
   "id": "4523df15-5584-48a8-906f-13bd6005e6a6",
   "metadata": {},
   "source": [
    "# Finding keys accoding to values"
   ]
  },
  {
   "cell_type": "code",
   "execution_count": 3,
   "id": "5ad2dec7-b8f1-4a98-a2f2-a0edc7d77af2",
   "metadata": {},
   "outputs": [
    {
     "name": "stdin",
     "output_type": "stream",
     "text": [
      "Enter your color:  green\n"
     ]
    },
    {
     "name": "stdout",
     "output_type": "stream",
     "text": [
      "grapes, papeya, watermelon, \n"
     ]
    }
   ],
   "source": [
    "fruits_and_colors = {\"mango\": \"yellow\",\n",
    "                    \"apple\" : \"red\",\n",
    "                    \"banana\": \"yellow\",\n",
    "                    \"orange\": \"orange\",\n",
    "                    \"grapes\": \"green\",\n",
    "                    \"papeya\": \"green\",\n",
    "                    \"watermelon\": \"green\"}\n",
    "def check(color):\n",
    "    fruits = \"\"\n",
    "    for key, value in fruits_and_colors.items(): \n",
    "        if value == color:\n",
    "            fruits += key+ \", \"\n",
    "    return fruits\n",
    "    \n",
    "print(check(input(\"Enter your color: \")))"
   ]
  }
 ],
 "metadata": {
  "kernelspec": {
   "display_name": "Python 3 (ipykernel)",
   "language": "python",
   "name": "python3"
  },
  "language_info": {
   "codemirror_mode": {
    "name": "ipython",
    "version": 3
   },
   "file_extension": ".py",
   "mimetype": "text/x-python",
   "name": "python",
   "nbconvert_exporter": "python",
   "pygments_lexer": "ipython3",
   "version": "3.12.2"
  },
  "widgets": {
   "application/vnd.jupyter.widget-state+json": {
    "state": {},
    "version_major": 2,
    "version_minor": 0
   }
  }
 },
 "nbformat": 4,
 "nbformat_minor": 5
}
